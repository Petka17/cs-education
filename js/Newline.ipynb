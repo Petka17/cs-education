{
 "cells": [
  {
   "cell_type": "code",
   "execution_count": 30,
   "metadata": {},
   "outputs": [
    {
     "data": {
      "text/plain": [
       "'123 123\\n12345678 4\\n56'"
      ]
     },
     "execution_count": 30,
     "metadata": {},
     "output_type": "execute_result"
    }
   ],
   "source": [
    "/**\n",
    " * @param sourceLines {string} - line of text \n",
    " * @param length {int} - length of one line\n",
    " * @return {string} - line with newline symbols\n",
    " */\n",
    "function formLines(sourceLines, targetLength) {\n",
    "    const reduced = sourceLines\n",
    "        .split(\" \")\n",
    "        .reduce(function(acc, currWord) {\n",
    "            if (currWord.length + acc.lastSentenceLength + 1 > targetLength) {\n",
    "                acc.result += \"\\n\";\n",
    "                acc.lastSentenceLength = 0;\n",
    "            }\n",
    "            \n",
    "            if (acc.lastSentenceLength === 0) {\n",
    "                acc.result += currWord;\n",
    "            } else {\n",
    "                acc.result += ` ${currWord}`;\n",
    "            }\n",
    "            \n",
    "            acc.lastSentenceLength += currWord.length;\n",
    "\n",
    "            return acc;\n",
    "        }, {result: \"\", lastSentenceLength: 0})\n",
    "    \n",
    "    return reduced.result;\n",
    "}\n",
    "\n",
    "formLines(\"123 123 12345678 4 56\", 10)"
   ]
  },
  {
   "cell_type": "markdown",
   "metadata": {},
   "source": [
    "Write a simple program that \n",
    "will \n",
    "receive lines of text \n",
    "and \n",
    "will generate output lines of a provided length. \n",
    "\n",
    "It should not split any words in the middle. \n",
    "\n",
    "We can assume that no word is longer than the provided length of one line. \n",
    "\n",
    "\n",
    "you should implement this in secret gist and then share the result with us. \n",
    "\n",
    "the returned value should be a string."
   ]
  },
  {
   "cell_type": "code",
   "execution_count": null,
   "metadata": {},
   "outputs": [],
   "source": []
  }
 ],
 "metadata": {
  "kernelspec": {
   "display_name": "Javascript (Node.js)",
   "language": "javascript",
   "name": "javascript"
  },
  "language_info": {
   "file_extension": ".js",
   "mimetype": "application/javascript",
   "name": "javascript",
   "version": "10.15.1"
  }
 },
 "nbformat": 4,
 "nbformat_minor": 2
}
