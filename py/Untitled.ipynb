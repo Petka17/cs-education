{
 "cells": [
  {
   "cell_type": "code",
   "execution_count": 5,
   "metadata": {},
   "outputs": [],
   "source": [
    "import typing\n",
    "\n",
    "class Human:\n",
    "    __slots__ = [\"birth\", \"death\"]\n",
    "\n",
    "    def __init__(self, birth: int, death: int):\n",
    "        self.birth = birth\n",
    "        self.death = death\n",
    "        \n",
    "def max_population_year(humans: typing.List[Human]) -> int:\n",
    "    min_year = 9999\n",
    "    max_year = 0\n",
    "    \n",
    "    for h in humans:\n",
    "        if h.birth < min_year:\n",
    "            min_year = h.birth\n",
    "        if h.death > max_year:\n",
    "            max_year = h.death\n",
    "      \n",
    "    max_lived_year = min_year\n",
    "    max_lived_num = 0\n",
    "    \n",
    "    for year in range(min_year, max_year):\n",
    "        i = 0\n",
    "        for h in humans:\n",
    "            if h.birth > year and h.death < year:\n",
    "                i += 1\n",
    "      \n",
    "        if i > max_lived_num:\n",
    "            max_lived_year = year\n",
    "        \n",
    "    return max_lived_year"
   ]
  },
  {
   "cell_type": "code",
   "execution_count": 6,
   "metadata": {},
   "outputs": [],
   "source": [
    "h1 = Human(1940, 2000)\n",
    "h2 = Human(1950, 1995)\n",
    "h3 = Human(1970, 2030)"
   ]
  },
  {
   "cell_type": "code",
   "execution_count": 7,
   "metadata": {},
   "outputs": [
    {
     "data": {
      "text/plain": [
       "1940"
      ]
     },
     "execution_count": 7,
     "metadata": {},
     "output_type": "execute_result"
    }
   ],
   "source": [
    "max_population_year([h1, h2, h3])"
   ]
  },
  {
   "cell_type": "code",
   "execution_count": null,
   "metadata": {},
   "outputs": [],
   "source": []
  }
 ],
 "metadata": {
  "kernelspec": {
   "display_name": "Python 3",
   "language": "python",
   "name": "python3"
  },
  "language_info": {
   "codemirror_mode": {
    "name": "ipython",
    "version": 3
   },
   "file_extension": ".py",
   "mimetype": "text/x-python",
   "name": "python",
   "nbconvert_exporter": "python",
   "pygments_lexer": "ipython3",
   "version": "3.7.2"
  }
 },
 "nbformat": 4,
 "nbformat_minor": 2
}
