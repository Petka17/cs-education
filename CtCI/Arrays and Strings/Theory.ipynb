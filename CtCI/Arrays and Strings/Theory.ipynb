{
 "cells": [
  {
   "cell_type": "markdown",
   "metadata": {},
   "source": [
    "# Hash tables\n",
    "There are many different implementations. One of which might be an array of linked lists plus a hash function that maps keys to int of long values. In order to put a key-value pair to a hash table we need to apply the hash function to the key and take the modulo of the array length.\n",
    "\n",
    "![Hash Table](./img/hash-table-example.png)"
   ]
  },
  {
   "cell_type": "markdown",
   "metadata": {},
   "source": [
    "# ArrayList & Resizeble Arrays\n",
    "For example in java arrays have fixed length and couldn't be resize after initialazed. If you need resizeble list and still be able to have `O(1)` access time, you need to use `ArrayList`. Internally it has an array which is reinitialized every time the number of elements exceeds the array length with a new length."
   ]
  },
  {
   "cell_type": "markdown",
   "metadata": {},
   "source": [
    "# StringBuilder\n",
    "When you concatenate two strings it creates a new string with a length that equals the sum of lengths of source strings. It might affect time complexity. In order to construct strings it's better to use `StringBuilder`."
   ]
  },
  {
   "cell_type": "code",
   "execution_count": 3,
   "metadata": {},
   "outputs": [
    {
     "data": {
      "text/plain": [
       "catdog"
      ]
     },
     "execution_count": 3,
     "metadata": {},
     "output_type": "execute_result"
    }
   ],
   "source": [
    "String joinWords(String[] words) {\n",
    "    StringBuilder sentence = new StringBuilder();\n",
    "    for (String word: words) {\n",
    "        sentence.append(word);\n",
    "    }\n",
    "    return sentence.toString();\n",
    "}\n",
    "\n",
    "joinWords(new String[]{\"cat\", \"dog\"});"
   ]
  }
 ],
 "metadata": {
  "kernelspec": {
   "display_name": "Java",
   "language": "java",
   "name": "java"
  },
  "language_info": {
   "codemirror_mode": "java",
   "file_extension": ".jshell",
   "mimetype": "text/x-java-source",
   "name": "Java",
   "pygments_lexer": "java",
   "version": "11.0.2+9"
  }
 },
 "nbformat": 4,
 "nbformat_minor": 2
}
