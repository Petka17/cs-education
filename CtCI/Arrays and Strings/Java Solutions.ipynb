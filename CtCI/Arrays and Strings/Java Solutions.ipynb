{
 "cells": [
  {
   "cell_type": "markdown",
   "metadata": {},
   "source": [
    "### 1.1 Is Unique\n",
    "Implement an algorithm to determine if a string has all unique characters. What if you cannot use additional data structures?"
   ]
  },
  {
   "cell_type": "code",
   "execution_count": 42,
   "metadata": {},
   "outputs": [
    {
     "name": "stdout",
     "output_type": "stream",
     "text": [
      "~{[]} !\"#$%&'?/qwertyuiopasdfghjklzxcvbnm: true\n",
      "qwerttyuiopasdfghjklzxcvbnm: false\n"
     ]
    }
   ],
   "source": [
    "// Ask if the string an ASCII string or a Unicode string.\n",
    "boolean isUnique(String str) {\n",
    "    // There are only 96 printed symbols is ASCII\n",
    "    if (str.length() > 96) {\n",
    "        return false;\n",
    "    }\n",
    "\n",
    "    // Brute-force solution\n",
    "    for (int i = 0; i < str.length(); i++) {\n",
    "        for (int j = i + 1;  j < str.length(); j++) {\n",
    "            if (str.charAt(i) == str.charAt(j)) {\n",
    "                return false;\n",
    "            }\n",
    "        }\n",
    "    }\n",
    "    \n",
    "    return true;\n",
    "}\n",
    "\n",
    "String str;\n",
    "\n",
    "str = \"~{[]} !\\\"#$%&'?/qwertyuiopasdfghjklzxcvbnm\";\n",
    "System.out.println(str + \": \" + isUnique(str));\n",
    "\n",
    "str = \"qwerttyuiopasdfghjklzxcvbnm\";\n",
    "System.out.println(str + \": \" + isUnique(str));"
   ]
  },
  {
   "cell_type": "code",
   "execution_count": 44,
   "metadata": {},
   "outputs": [
    {
     "name": "stdout",
     "output_type": "stream",
     "text": [
      "~{[]} !\"#$%&'?/qwertyuiopasdfghjklzxcvbnm: true\n",
      "qwerttyuiopasdfghjklzxcvbnm: false\n"
     ]
    }
   ],
   "source": [
    "// Ask if the string an ASCII string or a Unicode string.\n",
    "boolean isUnique(String str) {\n",
    "    // There are only 95 printed symbols is ASCII\n",
    "    if (str.length() > 95) {\n",
    "        return false;\n",
    "    }\n",
    "\n",
    "    boolean[] charSet = new boolean[128];\n",
    "        \n",
    "    // Using boolean array\n",
    "    for (int i = 0; i < str.length(); i++) {\n",
    "        int charIndex = (int)str.charAt(i) - 32;\n",
    "        \n",
    "        if (charSet[charIndex]) {\n",
    "            return false;\n",
    "        }\n",
    "        \n",
    "        charSet[charIndex] = true;\n",
    "    }\n",
    "    \n",
    "    return true;\n",
    "}\n",
    "\n",
    "str = \"~{[]} !\\\"#$%&'?/qwertyuiopasdfghjklzxcvbnm\";\n",
    "System.out.println(str + \": \" +isUnique(str));\n",
    "\n",
    "str = \"qwerttyuiopasdfghjklzxcvbnm\";\n",
    "System.out.println(str + \": \" +isUnique(str));"
   ]
  },
  {
   "cell_type": "markdown",
   "metadata": {},
   "source": [
    "### 1.2 Check Permutation\n",
    "Given two strings, write a method to decide if one is a permutation of the other."
   ]
  },
  {
   "cell_type": "code",
   "execution_count": 49,
   "metadata": {},
   "outputs": [
    {
     "data": {
      "text/plain": [
       "true"
      ]
     },
     "execution_count": 49,
     "metadata": {},
     "output_type": "execute_result"
    }
   ],
   "source": [
    "boolean checkPermutation(String str1, String str2) {\n",
    "    if (str1.length() != str2.length()) {\n",
    "        return false;\n",
    "    }\n",
    "    \n",
    "    return true;\n",
    "}\n",
    "\n",
    "checkPermutation(\"str\", \"trss\");\n",
    "checkPermutation(\"str\", \"trs\");"
   ]
  },
  {
   "cell_type": "markdown",
   "metadata": {},
   "source": [
    "### 1.3 URLify\n",
    "Write a method to replace all space in a string with \"%20\". You may assume that the string has sufficient space at the end to hold the additional characters, and that you are given the \"true\" length of the string. (Note: for Java use a character array.)\n",
    "\n",
    "**EXAMPLE**  \n",
    "input: \"Mr John Smith    \", 13  \n",
    "output: \"Mr%20John%20Smith\"  "
   ]
  },
  {
   "cell_type": "markdown",
   "metadata": {},
   "source": [
    "### 1.4 Palindrome Permutation\n",
    "Given a string, write a function to check if it is a permutation of a palindrome. A palindrome is a word that is the same forwards and backwards.  A permutation is a rearrangement of letters. The palindrome does not need to be limited to just dictionary words. You can ignore casing and non-letter characters.\n",
    "\n",
    "**EXAMPLE**  \n",
    "Input: Tact Coa  \n",
    "Output True"
   ]
  },
  {
   "cell_type": "markdown",
   "metadata": {},
   "source": [
    "### 1.5 One Away\n",
    "There are three types of edits that can be performed on strings: insert a character, remove a character, or replace a character. Given two strings, write a function to check if they are one edit (or zero edits) away.\n",
    "\n",
    "**EXAMPLE**  \n",
    "pale, ple --> true  \n",
    "pales, pale --> true  \n",
    "pale, bale --> true  \n",
    "pale, bake --> false"
   ]
  },
  {
   "cell_type": "markdown",
   "metadata": {},
   "source": [
    "### 1.6 String Compression\n",
    "Implement a method to perform basic string compression using the counts of repeated characters. For example, the string `aabcccccaaa` would become `a2b1c5a3`. If the \"compressed\" string would not become smaller than the original string, your method should return the original string. You can assume the string has only uppercase and lowercase letters (a-z)."
   ]
  },
  {
   "cell_type": "markdown",
   "metadata": {},
   "source": [
    "### 1.7 Rotate Matrix\n",
    "Given an image represented by an `N x N` matrix, where each pixel in the image is represented by an integer, write a method to rotate the image by 90 degrees, can you do this in place? "
   ]
  },
  {
   "cell_type": "markdown",
   "metadata": {},
   "source": [
    "### 1.8 Zero Matrix\n",
    "Write an algorithm such that if an element in an `M x N` matriz is zero, its entire row and column sre set to zero."
   ]
  },
  {
   "cell_type": "markdown",
   "metadata": {},
   "source": [
    "### 1.9 String Rotation\n",
    "Assume you have a method `isSubstring` which checks if one word is a substring of another. Given two strings, `s1` and `s2`, write code to check if `s2` is a rotation of  `s1` using only one call to `isSumstring`.\n",
    "\n",
    "**EXAMPLE**  \n",
    "waterbottle, rebottlewar --> true"
   ]
  },
  {
   "cell_type": "code",
   "execution_count": null,
   "metadata": {},
   "outputs": [],
   "source": []
  }
 ],
 "metadata": {
  "kernelspec": {
   "display_name": "Java",
   "language": "java",
   "name": "java"
  },
  "language_info": {
   "codemirror_mode": "java",
   "file_extension": ".jshell",
   "mimetype": "text/x-java-source",
   "name": "Java",
   "pygments_lexer": "java",
   "version": "11.0.2+9"
  }
 },
 "nbformat": 4,
 "nbformat_minor": 2
}
