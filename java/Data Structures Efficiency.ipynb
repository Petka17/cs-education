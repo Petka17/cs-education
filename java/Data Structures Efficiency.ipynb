{
 "cells": [
  {
   "cell_type": "markdown",
   "metadata": {},
   "source": [
    "Basic interface for flexible list."
   ]
  },
  {
   "cell_type": "code",
   "execution_count": 1,
   "metadata": {},
   "outputs": [],
   "source": [
    "interface IBox {\n",
    "    int size();\n",
    "    void add(String elem);\n",
    "    String get(int index);\n",
    "    boolean has(String elem);\n",
    "    String name();\n",
    "    // TODO: add `remove` and `clear` methods\n",
    "    // TODO: add `addAt`  method\n",
    "}"
   ]
  },
  {
   "cell_type": "markdown",
   "metadata": {},
   "source": [
    "Simple implementation, there is an array under the hood, with we recreate each time we need to add element."
   ]
  },
  {
   "cell_type": "code",
   "execution_count": 2,
   "metadata": {},
   "outputs": [],
   "source": [
    "public class SingleBox implements IBox {\n",
    "    String[] arr = {};\n",
    "    \n",
    "    @Override\n",
    "    public int size() {\n",
    "        return arr.length;\n",
    "    }\n",
    "    \n",
    "    @Override\n",
    "    public void add(String elem) {\n",
    "        resize(1);\n",
    "        arr[size() - 1] = elem;\n",
    "    }\n",
    "    \n",
    "    protected void resize(int numberOfNewElements) {\n",
    "        String[] newArray = new String[arr.length + numberOfNewElements];\n",
    "        System.arraycopy(arr,0,newArray,0,size());\n",
    "        arr = newArray;\n",
    "    }\n",
    "    \n",
    "    @Override\n",
    "    public String get(int index) {\n",
    "        if (index < 0 || index >= size()) {\n",
    "            return null;\n",
    "        }\n",
    "        \n",
    "        return arr[index];\n",
    "    }\n",
    "    \n",
    "    @Override\n",
    "    public boolean has(String elem) {\n",
    "        for (int i = 0; i < size(); i++) {\n",
    "            if (elem.equals(arr[i])) {\n",
    "                return true;\n",
    "            }\n",
    "        }\n",
    "        \n",
    "        return false;\n",
    "    }\n",
    "    \n",
    "    /**\n",
    "     * Technical method\n",
    "     */\n",
    "    public String toString() {\n",
    "        StringBuilder str = new StringBuilder();\n",
    "        for (int i = 0; i < size(); i++) {\n",
    "            str.append(arr[i]);\n",
    "            str.append(\";\");\n",
    "        }\n",
    "        \n",
    "        return str.toString();\n",
    "    }\n",
    "    \n",
    "    @Override\n",
    "    public String name() {\n",
    "        return \"single\";\n",
    "    }\n",
    "}"
   ]
  },
  {
   "cell_type": "markdown",
   "metadata": {},
   "source": [
    "Let's play with our new data structure:"
   ]
  },
  {
   "cell_type": "code",
   "execution_count": 3,
   "metadata": {},
   "outputs": [
    {
     "name": "stdout",
     "output_type": "stream",
     "text": [
      "One;Two;\n",
      "2\n",
      "Two\n",
      "null\n",
      "true\n",
      "false\n"
     ]
    }
   ],
   "source": [
    "IBox box = new SingleBox();\n",
    "box.add(\"One\");\n",
    "box.add(\"Two\");\n",
    "System.out.println(box);\n",
    "System.out.println(box.size());\n",
    "System.out.println(box.get(1));\n",
    "System.out.println(box.get(-3));\n",
    "System.out.println(box.has(\"One\"));\n",
    "System.out.println(box.has(\"Four\"));"
   ]
  },
  {
   "cell_type": "markdown",
   "metadata": {},
   "source": [
    "A more fancy way to resize the underlying array"
   ]
  },
  {
   "cell_type": "code",
   "execution_count": 4,
   "metadata": {},
   "outputs": [],
   "source": [
    "class FactorBox extends SingleBox {\n",
    "    static final int INIT_SIZE = 100;\n",
    "    static final float FACTOR = 0.1f;\n",
    "    \n",
    "    private int size;\n",
    "    \n",
    "    public FactorBox () {\n",
    "        arr = new String[INIT_SIZE];\n",
    "        size = 0;\n",
    "    }\n",
    "    \n",
    "    @Override\n",
    "    public int size() {\n",
    "        return size;\n",
    "    }\n",
    "    \n",
    "    @Override\n",
    "    public void add(String elem) {\n",
    "        if (size() == arr.length) {\n",
    "            resize((int)Math.floor(FACTOR * size()));\n",
    "        }\n",
    "        \n",
    "        arr[size()] = elem;\n",
    "        size += 1;\n",
    "    }\n",
    "    \n",
    "    @Override\n",
    "    public String name() {\n",
    "        return \"factor\";\n",
    "    }\n",
    "}"
   ]
  },
  {
   "cell_type": "code",
   "execution_count": 5,
   "metadata": {},
   "outputs": [
    {
     "name": "stdout",
     "output_type": "stream",
     "text": [
      "One;Two;\n",
      "2\n",
      "Two\n",
      "null\n",
      "true\n",
      "false\n"
     ]
    }
   ],
   "source": [
    "IBox box = new FactorBox();\n",
    "box.add(\"One\");\n",
    "box.add(\"Two\");\n",
    "System.out.println(box);\n",
    "System.out.println(box.size());\n",
    "System.out.println(box.get(1));\n",
    "System.out.println(box.get(-3));\n",
    "System.out.println(box.has(\"One\"));\n",
    "System.out.println(box.has(\"Four\"));"
   ]
  },
  {
   "cell_type": "code",
   "execution_count": 6,
   "metadata": {},
   "outputs": [],
   "source": [
    "public class LinkedBox implements IBox {\n",
    "    private Node head;\n",
    "    private Node tail;\n",
    "    private int size;\n",
    "    \n",
    "    public LinkedBox(String value) {\n",
    "        createFirstElement(value);\n",
    "    }\n",
    "    \n",
    "    public LinkedBox() {\n",
    "        size = 0;\n",
    "    }\n",
    "    \n",
    "    private void createFirstElement(String value) {\n",
    "        head = new Node(value);\n",
    "        tail = head;\n",
    "        size = 1;\n",
    "    }\n",
    "    \n",
    "    @Override\n",
    "    public int size() {\n",
    "        return size;\n",
    "    }\n",
    "    \n",
    "    @Override\n",
    "    public void add(String elem) {\n",
    "        if (tail == null) {\n",
    "            createFirstElement(elem);\n",
    "        } else {\n",
    "            tail.setNext(new Node(elem));\n",
    "            tail = tail.getNext();\n",
    "            size += 1;\n",
    "        }\n",
    "    }\n",
    "    \n",
    "    @Override\n",
    "    public String get(int index) {\n",
    "        if (index < 0 || index >= size()) {\n",
    "            return null;\n",
    "        }\n",
    "        \n",
    "        Node iter = head;\n",
    "        \n",
    "        for (int i = 0; i < size() - 1; i++) {\n",
    "            iter = iter.getNext();\n",
    "        }\n",
    "                \n",
    "        return iter.getValue();\n",
    "    }\n",
    "    \n",
    "    @Override\n",
    "    public boolean has(String elem) {\n",
    "        Node iter = head;\n",
    "        \n",
    "        for (int i = 0; i < size(); i++) {\n",
    "            if (elem.equals(iter.getValue())) {\n",
    "                return true;\n",
    "            }\n",
    "            \n",
    "            iter = iter.getNext();\n",
    "        }\n",
    "        \n",
    "        return false;\n",
    "    }\n",
    "    \n",
    "    /**\n",
    "     * Technical method\n",
    "     */\n",
    "    public String toString() {\n",
    "        Node iter = head;\n",
    "        \n",
    "        StringBuilder str = new StringBuilder();\n",
    "        for (int i = 0; i < size(); i++) {\n",
    "            \n",
    "            str.append(iter.value);\n",
    "            str.append(\";\");\n",
    "            \n",
    "            iter = iter.getNext();\n",
    "        }\n",
    "        \n",
    "        return str.toString();\n",
    "    }\n",
    "    \n",
    "    @Override\n",
    "    public String name() {\n",
    "        return \"linkedlist\";\n",
    "    }\n",
    "    \n",
    "    \n",
    "    class Node {\n",
    "        private Node next;\n",
    "        private String value;\n",
    "        \n",
    "        public Node(String value) {\n",
    "            this.value = value;\n",
    "        }\n",
    "        \n",
    "        public void setNext(Node child) {\n",
    "            next = child;\n",
    "        }\n",
    "        \n",
    "        public Node getNext() {\n",
    "            return next;\n",
    "        }\n",
    "        \n",
    "        public String getValue() {\n",
    "            return value;\n",
    "        }\n",
    "        \n",
    "        public String toString() {\n",
    "            return \"Node(\" + value + \")\";\n",
    "        }\n",
    "    }\n",
    "}"
   ]
  },
  {
   "cell_type": "code",
   "execution_count": 7,
   "metadata": {},
   "outputs": [
    {
     "name": "stdout",
     "output_type": "stream",
     "text": [
      "One;Two;\n",
      "2\n",
      "Two\n",
      "null\n",
      "true\n",
      "false\n"
     ]
    }
   ],
   "source": [
    "IBox box = new LinkedBox();\n",
    "box.add(\"One\");\n",
    "box.add(\"Two\");\n",
    "System.out.println(box);\n",
    "System.out.println(box.size());\n",
    "System.out.println(box.get(1));\n",
    "System.out.println(box.get(-3));\n",
    "System.out.println(box.has(\"One\"));\n",
    "System.out.println(box.has(\"Four\"));"
   ]
  },
  {
   "cell_type": "markdown",
   "metadata": {},
   "source": [
    "Helper functions to test different implementations:"
   ]
  },
  {
   "cell_type": "code",
   "execution_count": 8,
   "metadata": {},
   "outputs": [],
   "source": [
    "void testAddElement(IBox box, int total) {\n",
    "    long start = System.currentTimeMillis();\n",
    "    \n",
    "    for (int i = 0; i < total; i++) {\n",
    "        box.add(i + \"\");\n",
    "    }\n",
    "    \n",
    "    long end = System.currentTimeMillis();\n",
    "    \n",
    "    System.out.println(box.name() + \"testPut: \" + (end - start));\n",
    "}\n",
    "\n",
    "void testGetElement(IBox box) {\n",
    "    long start = System.currentTimeMillis();\n",
    "    \n",
    "    for (int i = 0; i < box.size(); i++) {\n",
    "        box.get(i);\n",
    "    }\n",
    "    \n",
    "    long end = System.currentTimeMillis();\n",
    "    \n",
    "    System.out.println(box.name() + \"testPut: \" + (end - start));\n",
    "}"
   ]
  },
  {
   "cell_type": "markdown",
   "metadata": {},
   "source": [
    "SignleBox Test:"
   ]
  },
  {
   "cell_type": "code",
   "execution_count": 13,
   "metadata": {},
   "outputs": [
    {
     "name": "stdout",
     "output_type": "stream",
     "text": [
      "singletestPut: 75\n",
      "singletestPut: 0\n"
     ]
    }
   ],
   "source": [
    "IBox single = new SingleBox();\n",
    "testAddElement(single, 10_000);\n",
    "testGetElement(single);"
   ]
  },
  {
   "cell_type": "markdown",
   "metadata": {},
   "source": [
    "FactorBox Test:"
   ]
  },
  {
   "cell_type": "code",
   "execution_count": 14,
   "metadata": {},
   "outputs": [
    {
     "name": "stdout",
     "output_type": "stream",
     "text": [
      "factortestPut: 0\n",
      "factortestPut: 0\n"
     ]
    }
   ],
   "source": [
    "IBox factor = new FactorBox();\n",
    "testAddElement(factor, 10_000);\n",
    "testGetElement(factor);"
   ]
  },
  {
   "cell_type": "markdown",
   "metadata": {},
   "source": [
    "LinkedList Test"
   ]
  },
  {
   "cell_type": "code",
   "execution_count": 16,
   "metadata": {},
   "outputs": [
    {
     "name": "stdout",
     "output_type": "stream",
     "text": [
      "linkedlisttestPut: 1\n",
      "linkedlisttestPut: 217\n"
     ]
    }
   ],
   "source": [
    "IBox linkedList = new LinkedBox();\n",
    "testAddElement(linkedList, 10_000);\n",
    "testGetElement(linkedList);"
   ]
  },
  {
   "cell_type": "code",
   "execution_count": null,
   "metadata": {},
   "outputs": [],
   "source": []
  }
 ],
 "metadata": {
  "kernelspec": {
   "display_name": "Java",
   "language": "java",
   "name": "java"
  },
  "language_info": {
   "codemirror_mode": "java",
   "file_extension": ".jshell",
   "mimetype": "text/x-java-source",
   "name": "Java",
   "pygments_lexer": "java",
   "version": "11.0.2+9"
  }
 },
 "nbformat": 4,
 "nbformat_minor": 2
}
