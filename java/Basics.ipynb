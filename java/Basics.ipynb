{
 "cells": [
  {
   "cell_type": "markdown",
   "metadata": {},
   "source": [
    "# Primitive Data Types\n",
    "A primitive data type specifies the size and type of variable values, and it has no additional methods.\n",
    "\n",
    "There are eight primitive data types in Java:\n",
    "\n",
    "|Data Type|Size|Description|\n",
    "|:------|------:|:--------------------------------------------------------------------------------|\n",
    "|byte   |1 byte |Stores whole numbers from -128 to 127                                            |\n",
    "|short  |2 bytes|Stores whole numbers from -32,768 to 32,767                                      |\n",
    "|int    |4 bytes|Stores whole numbers from -2,147,483,648 to 2,147,483,647                        |\n",
    "|long   |8 bytes|Stores whole numbers from -9,223,372,036,854,775,808 to 9,223,372,036,854,775,807|\n",
    "|float  |4 bytes|Stores fractional numbers. Sufficient for storing 6 to 7 decimal digits          |\n",
    "|double |8 bytes|Stores fractional numbers. Sufficient for storing 15 decimal digits              |\n",
    "|boolean|1 bit  |Stores true or false values                                                      |\n",
    "|char   |2 bytes|Stores a single character/letter or ASCII values                                 |"
   ]
  },
  {
   "cell_type": "markdown",
   "metadata": {},
   "source": [
    "## Numbers"
   ]
  },
  {
   "cell_type": "code",
   "execution_count": null,
   "metadata": {},
   "outputs": [],
   "source": [
    "byte myNum = 100;\n",
    "System.out.println(myNum);"
   ]
  },
  {
   "cell_type": "code",
   "execution_count": null,
   "metadata": {},
   "outputs": [],
   "source": [
    "short myNum = 5000;\n",
    "System.out.println(myNum);"
   ]
  },
  {
   "cell_type": "code",
   "execution_count": null,
   "metadata": {},
   "outputs": [],
   "source": [
    "int myNum = 100000;\n",
    "System.out.println(myNum);"
   ]
  },
  {
   "cell_type": "code",
   "execution_count": null,
   "metadata": {},
   "outputs": [],
   "source": [
    "long myNum = 15000000000L;\n",
    "System.out.println(myNum);"
   ]
  },
  {
   "cell_type": "code",
   "execution_count": null,
   "metadata": {},
   "outputs": [],
   "source": [
    "float myNum = 5.75f;\n",
    "System.out.println(myNum);"
   ]
  },
  {
   "cell_type": "code",
   "execution_count": null,
   "metadata": {},
   "outputs": [],
   "source": [
    "double myNum = 19.99d;\n",
    "System.out.println(myNum);"
   ]
  },
  {
   "cell_type": "code",
   "execution_count": null,
   "metadata": {},
   "outputs": [],
   "source": [
    "float f1 = 35e3f;\n",
    "double d1 = 12E4d;\n",
    "System.out.println(f1);\n",
    "System.out.println(d1);"
   ]
  },
  {
   "cell_type": "markdown",
   "metadata": {},
   "source": [
    "## Booleans\n",
    "A boolean data type is declared with the `boolean` keyword and can only take the values `true` or `false`."
   ]
  },
  {
   "cell_type": "code",
   "execution_count": null,
   "metadata": {},
   "outputs": [],
   "source": [
    "boolean isJavaFun = true;\n",
    "boolean isFishTasty = false;\n",
    "System.out.println(isJavaFun);     // Outputs true\n",
    "System.out.println(isFishTasty);   // Outputs false"
   ]
  },
  {
   "cell_type": "markdown",
   "metadata": {},
   "source": [
    "## Characters\n",
    "The `char` data type is used to store a single character. The character must be surrounded by **single quotes**, like 'A' or 'c'."
   ]
  },
  {
   "cell_type": "code",
   "execution_count": null,
   "metadata": {},
   "outputs": [],
   "source": [
    "char myGrade = 'B';\n",
    "System.out.println(myGrade);"
   ]
  },
  {
   "cell_type": "markdown",
   "metadata": {},
   "source": [
    "A list of all ASCII values can be found in our [ASCII Table](https://www.w3schools.com/charsets/ref_html_ascii.asp) Reference."
   ]
  },
  {
   "cell_type": "code",
   "execution_count": 51,
   "metadata": {},
   "outputs": [
    {
     "name": "stdout",
     "output_type": "stream",
     "text": [
      "A\n",
      "B\n",
      "C\n"
     ]
    }
   ],
   "source": [
    "char a = 65, b = 66, c = 67;\n",
    "System.out.println(a);\n",
    "System.out.println(b);\n",
    "System.out.println(c);"
   ]
  },
  {
   "cell_type": "markdown",
   "metadata": {},
   "source": [
    "## Math"
   ]
  },
  {
   "cell_type": "markdown",
   "metadata": {},
   "source": [
    "|Method|Description|Return Type|\n",
    "|---|---|---|\n",
    "|**Random**|\n",
    "|random()|Returns a random number between 0 and 1|double|\n",
    "|**Sign**|\n",
    "|abs(x)|Returns the absolute value of x|double/float/int/long|\n",
    "|signum(x)|Returns the sign of x|double|\n",
    "|**Rounding**|\n",
    "|ceil(x)|Returns the value of x rounded up to its nearest integer|double|\n",
    "|floor(x)|Returns the value of x rounded down to its nearest integer|double|\n",
    "|round(x)|Returns the value of x rounded to its nearest integer|int|\n",
    "|**Min/Max**|\n",
    "|max(x, y)|Returns the number with the highest value|double/float/int/long|\n",
    "|min(x, y)|Returns the number with the lowest value|double/float/int/long|\n",
    "|**Power and Logorithms**|\n",
    "|pow(x, y)|Returns the value of x to the power of y|double|\n",
    "|sqrt(x)|Returns the square root of x|double|\n",
    "|cbrt(x)|Returns the cube root of x|double|\n",
    "|exp(x)|Returns the value of Ex|double|\n",
    "|expm1(x)|Returns ex -1|double|\n",
    "|log(x)|Returns the natural logarithm (base E) of x|double|\n",
    "|log10(x)|Returns the base 10 logarithm of x|double|\n",
    "|log1p(x)|Returns the natural logarithm (base E) of the sum of x and 1|double|\n",
    "|getExponent(x)|Returns the unbiased exponent used in x|int|\n",
    "|**Trigonometry**|\n",
    "|cos(x)|Returns the cosine of x (x is in radians)|double|\n",
    "|sin(x)|Returns the sine of x (x is in radians)|double|\n",
    "|tan(x)|Returns the tangent of an angle|double|\n",
    "|cosh(x)|Returns the hyperbolic cosine of a double value|double\n",
    "|sinh(x)|Returns the hyperbolic sine of a double value|double|\n",
    "|tanh(x)|Returns the hyperbolic tangent of a double value|double|\n",
    "|acos(x)|Returns the arccosine of x, in radians|double|\n",
    "|asin(x)|Returns the arcsine of x, in radians|double|\n",
    "|atan(x)|Returns the arctangent of x as a numeric value between -PI/2 and PI/2 radians|double|\n",
    "|atan2(y,x)|Returns the angle theta from the conversion of rectangular coordinates (x, y) to polar coordinates (r, |theta).|double|\n",
    "|toDegrees(x)|Converts an angle measured in radians to an approx. equivalent angle measured in degrees|double|\n",
    "|toRadians(x)|Converts an angle measured in degrees to an approx. angle measured in radians|double|\n"
   ]
  },
  {
   "cell_type": "code",
   "execution_count": 52,
   "metadata": {},
   "outputs": [
    {
     "data": {
      "text/plain": [
       "10"
      ]
     },
     "execution_count": 52,
     "metadata": {},
     "output_type": "execute_result"
    }
   ],
   "source": [
    "Math.max(5, 10);"
   ]
  },
  {
   "cell_type": "code",
   "execution_count": 53,
   "metadata": {},
   "outputs": [
    {
     "data": {
      "text/plain": [
       "5"
      ]
     },
     "execution_count": 53,
     "metadata": {},
     "output_type": "execute_result"
    }
   ],
   "source": [
    "Math.min(5, 10);"
   ]
  },
  {
   "cell_type": "code",
   "execution_count": 54,
   "metadata": {},
   "outputs": [
    {
     "data": {
      "text/plain": [
       "8.0"
      ]
     },
     "execution_count": 54,
     "metadata": {},
     "output_type": "execute_result"
    }
   ],
   "source": [
    "(float) Math.sqrt(64d);"
   ]
  },
  {
   "cell_type": "code",
   "execution_count": 55,
   "metadata": {},
   "outputs": [
    {
     "data": {
      "text/plain": [
       "0.5657105584999466"
      ]
     },
     "execution_count": 55,
     "metadata": {},
     "output_type": "execute_result"
    }
   ],
   "source": [
    "Math.random()"
   ]
  },
  {
   "cell_type": "code",
   "execution_count": 56,
   "metadata": {},
   "outputs": [
    {
     "data": {
      "text/plain": [
       "508"
      ]
     },
     "execution_count": 56,
     "metadata": {},
     "output_type": "execute_result"
    }
   ],
   "source": [
    "(int)Math.floor(Math.random() * 1000)"
   ]
  },
  {
   "cell_type": "markdown",
   "metadata": {},
   "source": [
    "# Wrapper Classes\n",
    "Wrapper classes provide a way to use primitive data types (int, boolean, etc..) as objects.\n",
    "\n",
    "The table below shows the primitive type and the equivalent wrapper class:\n",
    "\n",
    "|Primitive Data Type|Wrapper Class|\n",
    "|---|---|\n",
    "|byte|Byte|\n",
    "|short|Short|\n",
    "|int|Integer|\n",
    "|long|Long|\n",
    "|float|Float|\n",
    "|double|Double|\n",
    "|boolean|Boolean|\n",
    "|char|Character|\n",
    "\n",
    "Sometimes you must use wrapper classes, for example when working with Collection objects, such as ArrayList, where primitive types cannot be used (the list can only store objects):\n",
    "```\n",
    "ArrayList<int> myNumbers = new ArrayList<int>(); // Invalid\n",
    "ArrayList<Integer> myNumbers = new ArrayList<Integer>(); // Valid\n",
    "```"
   ]
  },
  {
   "cell_type": "markdown",
   "metadata": {},
   "source": [
    "# Non-Primitive Data Types\n",
    "Non-primitive data types are called reference types because they refer to objects."
   ]
  },
  {
   "cell_type": "markdown",
   "metadata": {},
   "source": [
    "## Strings\n",
    "The `String` data type is used to store a sequence of characters (text). String values must be surrounded by **double quotes**."
   ]
  },
  {
   "cell_type": "code",
   "execution_count": 57,
   "metadata": {},
   "outputs": [
    {
     "name": "stdout",
     "output_type": "stream",
     "text": [
      "Hello World\n"
     ]
    }
   ],
   "source": [
    "String greeting = \"Hello World\";\n",
    "System.out.println(greeting);"
   ]
  },
  {
   "cell_type": "markdown",
   "metadata": {},
   "source": [
    "The String type is so much used and integrated in Java, that some call it \"the special ninth type\".\n",
    "\n",
    "A String in Java is actually a non-primitive data type, because it refers to an object. The String object has methods that is used to perform certain operations on strings."
   ]
  },
  {
   "cell_type": "markdown",
   "metadata": {},
   "source": [
    "Strings are immutable in java"
   ]
  },
  {
   "cell_type": "markdown",
   "metadata": {},
   "source": [
    "### Length\n",
    "Length is a method, not property:"
   ]
  },
  {
   "cell_type": "code",
   "execution_count": 58,
   "metadata": {},
   "outputs": [
    {
     "name": "stdout",
     "output_type": "stream",
     "text": [
      "The length of the greeting string is: 11\n"
     ]
    }
   ],
   "source": [
    "System.out.println(\"The length of the greeting string is: \" + greeting.length());"
   ]
  },
  {
   "cell_type": "markdown",
   "metadata": {},
   "source": [
    "### Change string case"
   ]
  },
  {
   "cell_type": "code",
   "execution_count": 59,
   "metadata": {},
   "outputs": [
    {
     "name": "stdout",
     "output_type": "stream",
     "text": [
      "HELLO WORLD\n",
      "hello world\n"
     ]
    }
   ],
   "source": [
    "System.out.println(greeting.toUpperCase());\n",
    "System.out.println(greeting.toLowerCase());"
   ]
  },
  {
   "cell_type": "markdown",
   "metadata": {},
   "source": [
    "### Find subscting in string"
   ]
  },
  {
   "cell_type": "code",
   "execution_count": 60,
   "metadata": {},
   "outputs": [
    {
     "name": "stdout",
     "output_type": "stream",
     "text": [
      "6\n"
     ]
    }
   ],
   "source": [
    "System.out.println(greeting.indexOf(\"World\"))"
   ]
  },
  {
   "cell_type": "markdown",
   "metadata": {},
   "source": [
    "### String Concatenation"
   ]
  },
  {
   "cell_type": "code",
   "execution_count": 61,
   "metadata": {},
   "outputs": [
    {
     "name": "stdout",
     "output_type": "stream",
     "text": [
      "John Doe\n"
     ]
    }
   ],
   "source": [
    "String firstName = \"John\";\n",
    "String lastName = \"Doe\";\n",
    "System.out.println(firstName + \" \" + lastName);"
   ]
  },
  {
   "cell_type": "markdown",
   "metadata": {},
   "source": [
    "## String Builder"
   ]
  },
  {
   "cell_type": "code",
   "execution_count": 62,
   "metadata": {},
   "outputs": [
    {
     "name": "stdout",
     "output_type": "stream",
     "text": [
      "One Two Three \n"
     ]
    }
   ],
   "source": [
    "String[] words = {\"One\", \"Two\", \"Three\"};\n",
    "StringBuilder sentence = new StringBuilder();\n",
    "for (String word: words) {\n",
    "    sentence.append(word);\n",
    "    sentence.append(\" \");\n",
    "}\n",
    "System.out.println(sentence.toString());"
   ]
  },
  {
   "cell_type": "markdown",
   "metadata": {},
   "source": [
    "## Arrays\n",
    "Arrays are used to store multiple values in a single variable, instead of declaring separate variables for each value. To declare an array, define the variable type with square brackets."
   ]
  },
  {
   "cell_type": "code",
   "execution_count": 63,
   "metadata": {},
   "outputs": [],
   "source": [
    "String[] cars = {\"Volvo\", \"BMW\", \"Ford\", \"Mazda\"};"
   ]
  },
  {
   "cell_type": "code",
   "execution_count": 64,
   "metadata": {},
   "outputs": [
    {
     "name": "stdout",
     "output_type": "stream",
     "text": [
      "Volvo\n",
      "BMW\n",
      "Ford\n",
      "Mazda\n"
     ]
    }
   ],
   "source": [
    "for (int i = 0; i < cars.length; i++) {\n",
    "  System.out.println(cars[i]);\n",
    "}"
   ]
  },
  {
   "cell_type": "code",
   "execution_count": 65,
   "metadata": {},
   "outputs": [
    {
     "name": "stdout",
     "output_type": "stream",
     "text": [
      "Volvo\n",
      "BMW\n",
      "Ford\n",
      "Mazda\n"
     ]
    }
   ],
   "source": [
    "for (String i : cars) {\n",
    "  System.out.println(i);\n",
    "}"
   ]
  },
  {
   "cell_type": "markdown",
   "metadata": {},
   "source": [
    "Length is a property, not method:"
   ]
  },
  {
   "cell_type": "code",
   "execution_count": 66,
   "metadata": {},
   "outputs": [
    {
     "name": "stdout",
     "output_type": "stream",
     "text": [
      "40\n"
     ]
    }
   ],
   "source": [
    "int[] myNum = new int[4];\n",
    "for (int i = 1; i < 5; i++) {\n",
    "    myNum[i - 1] = 10*i;\n",
    "}\n",
    "System.out.println(myNum[myNum.length-1]);"
   ]
  },
  {
   "cell_type": "markdown",
   "metadata": {},
   "source": [
    "Length of array is immutable "
   ]
  },
  {
   "cell_type": "code",
   "execution_count": 67,
   "metadata": {},
   "outputs": [
    {
     "name": "stdout",
     "output_type": "stream",
     "text": [
      "5\n"
     ]
    }
   ],
   "source": [
    "myNum[0]=5;\n",
    "System.out.println(myNum[0]);"
   ]
  },
  {
   "cell_type": "code",
   "execution_count": 90,
   "metadata": {},
   "outputs": [
    {
     "name": "stdout",
     "output_type": "stream",
     "text": [
      "0\n",
      "1\n",
      "2\n",
      "30\n",
      "40\n",
      "50\n"
     ]
    }
   ],
   "source": [
    "int[] arr1 = { 0, 1, 2, 3, 4, 5 };\n",
    "int[] arr2 = { 5, 10, 20, 30, 40, 50 };\n",
    "\n",
    "System.arraycopy(arr1, 0, arr2, 0, 3);\n",
    "\n",
    "for (int i: arr2) {\n",
    "    System.out.println(i);\n",
    "}"
   ]
  },
  {
   "cell_type": "code",
   "execution_count": null,
   "metadata": {},
   "outputs": [],
   "source": []
  },
  {
   "cell_type": "markdown",
   "metadata": {},
   "source": [
    "## ArrayList"
   ]
  },
  {
   "cell_type": "markdown",
   "metadata": {},
   "source": [
    "### Init"
   ]
  },
  {
   "cell_type": "code",
   "execution_count": 69,
   "metadata": {},
   "outputs": [],
   "source": [
    "import java.util.ArrayList;\n",
    "\n",
    "ArrayList<String> cars = new ArrayList<String>();"
   ]
  },
  {
   "cell_type": "markdown",
   "metadata": {},
   "source": [
    "### Add to the end"
   ]
  },
  {
   "cell_type": "code",
   "execution_count": 70,
   "metadata": {},
   "outputs": [
    {
     "name": "stdout",
     "output_type": "stream",
     "text": [
      "[Volvo, BMW, Ford, Mazda]\n"
     ]
    }
   ],
   "source": [
    "cars.add(\"Volvo\");\n",
    "cars.add(\"BMW\");\n",
    "cars.add(\"Ford\");\n",
    "cars.add(\"Mazda\");\n",
    "System.out.println(cars);"
   ]
  },
  {
   "cell_type": "markdown",
   "metadata": {},
   "source": [
    "### Set by index"
   ]
  },
  {
   "cell_type": "code",
   "execution_count": 71,
   "metadata": {},
   "outputs": [
    {
     "name": "stdout",
     "output_type": "stream",
     "text": [
      "[Opel, BMW, Ford, Mazda]\n"
     ]
    }
   ],
   "source": [
    "cars.set(0, \"Opel\");\n",
    "System.out.println(cars);"
   ]
  },
  {
   "cell_type": "markdown",
   "metadata": {},
   "source": [
    "### Get"
   ]
  },
  {
   "cell_type": "code",
   "execution_count": 72,
   "metadata": {},
   "outputs": [
    {
     "data": {
      "text/plain": [
       "Opel"
      ]
     },
     "execution_count": 72,
     "metadata": {},
     "output_type": "execute_result"
    }
   ],
   "source": [
    "cars.get(0);"
   ]
  },
  {
   "cell_type": "markdown",
   "metadata": {},
   "source": [
    "### Remove"
   ]
  },
  {
   "cell_type": "code",
   "execution_count": 73,
   "metadata": {},
   "outputs": [
    {
     "name": "stdout",
     "output_type": "stream",
     "text": [
      "[BMW, Ford, Mazda]\n"
     ]
    }
   ],
   "source": [
    "cars.remove(0);\n",
    "System.out.println(cars);"
   ]
  },
  {
   "cell_type": "markdown",
   "metadata": {},
   "source": [
    "### Size"
   ]
  },
  {
   "cell_type": "code",
   "execution_count": 74,
   "metadata": {},
   "outputs": [
    {
     "data": {
      "text/plain": [
       "3"
      ]
     },
     "execution_count": 74,
     "metadata": {},
     "output_type": "execute_result"
    }
   ],
   "source": [
    "cars.size();"
   ]
  },
  {
   "cell_type": "markdown",
   "metadata": {},
   "source": [
    "### Loop through"
   ]
  },
  {
   "cell_type": "code",
   "execution_count": 75,
   "metadata": {},
   "outputs": [
    {
     "name": "stdout",
     "output_type": "stream",
     "text": [
      "BMW\n",
      "Ford\n",
      "Mazda\n"
     ]
    }
   ],
   "source": [
    "for (String i : cars) {\n",
    "  System.out.println(i);\n",
    "}"
   ]
  },
  {
   "cell_type": "markdown",
   "metadata": {},
   "source": [
    "### Clear"
   ]
  },
  {
   "cell_type": "code",
   "execution_count": 76,
   "metadata": {},
   "outputs": [
    {
     "name": "stdout",
     "output_type": "stream",
     "text": [
      "[]\n"
     ]
    }
   ],
   "source": [
    "cars.clear();\n",
    "System.out.println(cars);"
   ]
  },
  {
   "cell_type": "markdown",
   "metadata": {},
   "source": [
    "### Sort"
   ]
  },
  {
   "cell_type": "code",
   "execution_count": 77,
   "metadata": {},
   "outputs": [
    {
     "name": "stdout",
     "output_type": "stream",
     "text": [
      "8.0\n",
      "12.0\n",
      "15.0\n",
      "20.0\n",
      "33.0\n",
      "34.0\n"
     ]
    }
   ],
   "source": [
    "import java.util.Collections;\n",
    "\n",
    "ArrayList<Float> myNumbers = new ArrayList<Float>();\n",
    "myNumbers.add(33f);\n",
    "myNumbers.add(15f);\n",
    "myNumbers.add(20f);\n",
    "myNumbers.add(34f);\n",
    "myNumbers.add(8f);\n",
    "myNumbers.add(12f);\n",
    "\n",
    "Collections.sort(myNumbers);  // Sort myNumbers\n",
    "\n",
    "for (float i : myNumbers) {\n",
    "  System.out.println(i);\n",
    "}"
   ]
  },
  {
   "cell_type": "markdown",
   "metadata": {},
   "source": [
    "## HashMap"
   ]
  },
  {
   "cell_type": "markdown",
   "metadata": {},
   "source": [
    "### Init"
   ]
  },
  {
   "cell_type": "code",
   "execution_count": 78,
   "metadata": {},
   "outputs": [],
   "source": [
    "import java.util.HashMap;\n",
    "\n",
    "HashMap<String, String> capitalCities = new HashMap<String, String>();"
   ]
  },
  {
   "cell_type": "markdown",
   "metadata": {},
   "source": [
    "### Add"
   ]
  },
  {
   "cell_type": "code",
   "execution_count": 79,
   "metadata": {},
   "outputs": [
    {
     "name": "stdout",
     "output_type": "stream",
     "text": [
      "{USA=Washington, Norway=Oslo, England=London, Germany=Berlin}\n"
     ]
    }
   ],
   "source": [
    "capitalCities.put(\"England\", \"London\");\n",
    "capitalCities.put(\"Germany\", \"Berlin\");\n",
    "capitalCities.put(\"Norway\", \"Oslo\");\n",
    "capitalCities.put(\"USA\", \"Washington\");\n",
    "System.out.println(capitalCities); "
   ]
  },
  {
   "cell_type": "markdown",
   "metadata": {},
   "source": [
    "### Set"
   ]
  },
  {
   "cell_type": "code",
   "execution_count": 80,
   "metadata": {},
   "outputs": [
    {
     "name": "stdout",
     "output_type": "stream",
     "text": [
      "{USA=Washington DC, Norway=Oslo, England=London, Germany=Berlin}\n"
     ]
    }
   ],
   "source": [
    "capitalCities.put(\"USA\", \"Washington DC\");\n",
    "System.out.println(capitalCities); "
   ]
  },
  {
   "cell_type": "markdown",
   "metadata": {},
   "source": [
    "### Get"
   ]
  },
  {
   "cell_type": "code",
   "execution_count": 81,
   "metadata": {},
   "outputs": [
    {
     "data": {
      "text/plain": [
       "London"
      ]
     },
     "execution_count": 81,
     "metadata": {},
     "output_type": "execute_result"
    }
   ],
   "source": [
    "capitalCities.get(\"England\");"
   ]
  },
  {
   "cell_type": "markdown",
   "metadata": {},
   "source": [
    "### Remove"
   ]
  },
  {
   "cell_type": "code",
   "execution_count": 82,
   "metadata": {},
   "outputs": [
    {
     "name": "stdout",
     "output_type": "stream",
     "text": [
      "{USA=Washington DC, Norway=Oslo, Germany=Berlin}\n"
     ]
    }
   ],
   "source": [
    "capitalCities.remove(\"England\");\n",
    "System.out.println(capitalCities); "
   ]
  },
  {
   "cell_type": "markdown",
   "metadata": {},
   "source": [
    "### Size"
   ]
  },
  {
   "cell_type": "code",
   "execution_count": 83,
   "metadata": {},
   "outputs": [
    {
     "data": {
      "text/plain": [
       "3"
      ]
     },
     "execution_count": 83,
     "metadata": {},
     "output_type": "execute_result"
    }
   ],
   "source": [
    "capitalCities.size();"
   ]
  },
  {
   "cell_type": "markdown",
   "metadata": {},
   "source": [
    "### Loop through"
   ]
  },
  {
   "cell_type": "code",
   "execution_count": 84,
   "metadata": {},
   "outputs": [
    {
     "name": "stdout",
     "output_type": "stream",
     "text": [
      "USA: Washington DC\n",
      "Norway: Oslo\n",
      "Germany: Berlin\n"
     ]
    }
   ],
   "source": [
    "for (String i : capitalCities.keySet()) {\n",
    "  System.out.println(i + \": \" + capitalCities.get(i));\n",
    "}"
   ]
  },
  {
   "cell_type": "markdown",
   "metadata": {},
   "source": [
    "### Clear"
   ]
  },
  {
   "cell_type": "code",
   "execution_count": 85,
   "metadata": {},
   "outputs": [],
   "source": [
    "capitalCities.clear();"
   ]
  }
 ],
 "metadata": {
  "kernelspec": {
   "display_name": "Java",
   "language": "java",
   "name": "java"
  },
  "language_info": {
   "codemirror_mode": "java",
   "file_extension": ".jshell",
   "mimetype": "text/x-java-source",
   "name": "Java",
   "pygments_lexer": "java",
   "version": "11.0.2+9"
  }
 },
 "nbformat": 4,
 "nbformat_minor": 2
}
